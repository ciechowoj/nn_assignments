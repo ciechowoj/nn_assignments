{
 "cells": [
  {
   "cell_type": "code",
   "execution_count": 2,
   "metadata": {
    "collapsed": false
   },
   "outputs": [
    {
     "name": "stdout",
     "output_type": "stream",
     "text": [
      "Populating the interactive namespace from numpy and matplotlib\n"
     ]
    }
   ],
   "source": [
    "%pylab inline"
   ]
  },
  {
   "cell_type": "markdown",
   "metadata": {},
   "source": [
    "# Modular network implementation\n",
    "\n",
    "In the following cells, I implement in a modular way a feedforward neural network. Please study the code -- many network implementations follow a similar pattern."
   ]
  },
  {
   "cell_type": "code",
   "execution_count": 3,
   "metadata": {
    "collapsed": true
   },
   "outputs": [],
   "source": [
    "#\n",
    "# These are taken from https://github.com/mila-udem/blocks\n",
    "# \n",
    "\n",
    "class Constant():\n",
    "    \"\"\"Initialize parameters to a constant.\n",
    "    The constant may be a scalar or a :class:`~numpy.ndarray` of any shape\n",
    "    that is broadcastable with the requested parameter arrays.\n",
    "    Parameters\n",
    "    ----------\n",
    "    constant : :class:`~numpy.ndarray`\n",
    "        The initialization value to use. Must be a scalar or an ndarray (or\n",
    "        compatible object, such as a nested list) that has a shape that is\n",
    "        broadcastable with any shape requested by `initialize`.\n",
    "    \"\"\"\n",
    "    def __init__(self, constant):\n",
    "        self._constant = numpy.asarray(constant)\n",
    "\n",
    "    def generate(self, rng, shape):\n",
    "        dest = numpy.empty(shape, dtype=np.float32)\n",
    "        dest[...] = self._constant\n",
    "        return dest\n",
    "\n",
    "\n",
    "class IsotropicGaussian():\n",
    "    \"\"\"Initialize parameters from an isotropic Gaussian distribution.\n",
    "    Parameters\n",
    "    ----------\n",
    "    std : float, optional\n",
    "        The standard deviation of the Gaussian distribution. Defaults to 1.\n",
    "    mean : float, optional\n",
    "        The mean of the Gaussian distribution. Defaults to 0\n",
    "    Notes\n",
    "    -----\n",
    "    Be careful: the standard deviation goes first and the mean goes\n",
    "    second!\n",
    "    \"\"\"\n",
    "    def __init__(self, std=1, mean=0):\n",
    "        self._mean = mean\n",
    "        self._std = std\n",
    "\n",
    "    def generate(self, rng, shape):\n",
    "        m = rng.normal(self._mean, self._std, size=shape)\n",
    "        return m.astype(np.float32)\n",
    "\n",
    "\n",
    "class Uniform():\n",
    "    \"\"\"Initialize parameters from a uniform distribution.\n",
    "    Parameters\n",
    "    ----------\n",
    "    mean : float, optional\n",
    "        The mean of the uniform distribution (i.e. the center of mass for\n",
    "        the density function); Defaults to 0.\n",
    "    width : float, optional\n",
    "        One way of specifying the range of the uniform distribution. The\n",
    "        support will be [mean - width/2, mean + width/2]. **Exactly one**\n",
    "        of `width` or `std` must be specified.\n",
    "    std : float, optional\n",
    "        An alternative method of specifying the range of the uniform\n",
    "        distribution. Chooses the width of the uniform such that random\n",
    "        variates will have a desired standard deviation. **Exactly one** of\n",
    "        `width` or `std` must be specified.\n",
    "    \"\"\"\n",
    "    def __init__(self, mean=0., width=None, std=None):\n",
    "        if (width is not None) == (std is not None):\n",
    "            raise ValueError(\"must specify width or std, \"\n",
    "                             \"but not both\")\n",
    "        if std is not None:\n",
    "            # Variance of a uniform is 1/12 * width^2\n",
    "            self._width = numpy.sqrt(12) * std\n",
    "        else:\n",
    "            self._width = width\n",
    "        self._mean = mean\n",
    "\n",
    "    def generate(self, rng, shape):\n",
    "        w = self._width / 2\n",
    "        m = rng.uniform(self._mean - w, self._mean + w, size=shape)\n",
    "        return m.astype(np.float32)\n"
   ]
  },
  {
   "cell_type": "code",
   "execution_count": 4,
   "metadata": {
    "collapsed": false
   },
   "outputs": [],
   "source": [
    "#training algorithms. They change the network!\n",
    "def GD(net, X, Y, alpha=1e-4, max_iters=1000000, tolerance=1e-6):\n",
    "    \"\"\"\n",
    "    Simple batch gradient descent\n",
    "    \"\"\"\n",
    "    old_L = np.inf\n",
    "    for i in range(max_iters):\n",
    "        L, O, gradients = net.get_cost_and_gradient(X, Y)\n",
    "        if old_L < L:\n",
    "            print(\"Iter: %d, loss increased!!\" % (i,))\n",
    "        if (old_L - L)<tolerance:\n",
    "            print(\"Tolerance level reached exiting\")\n",
    "            break\n",
    "        if i % 1000 == 0:\n",
    "            err_rate = (O.argmax(0) != Y).mean()\n",
    "            print(\"At iteration %d, loss %f, train error rate %f%%\" % (i, L, err_rate*100))\n",
    "        for P,G in zip(net.parameters, gradients):\n",
    "            P -= alpha * G\n",
    "        old_L = L"
   ]
  },
  {
   "cell_type": "code",
   "execution_count": 5,
   "metadata": {
    "collapsed": false
   },
   "outputs": [],
   "source": [
    "class Layer(object):\n",
    "    def __init__(self, rng=None):\n",
    "        if rng is None:\n",
    "            rng = numpy.random\n",
    "        self.rng = rng\n",
    "    \n",
    "    @property\n",
    "    def parameters(self):\n",
    "        return []\n",
    "    \n",
    "    @property\n",
    "    def parameter_names(self):\n",
    "        return []\n",
    "    \n",
    "    def get_gradients(self, dLdY, fprop_context):\n",
    "        return []\n",
    "\n",
    "class ReLULayer(Layer):\n",
    "    def __init__(self, **kwargs):\n",
    "        super(ReLULayer, self).__init__(**kwargs)\n",
    "    \n",
    "    def fprop(self, X):\n",
    "        Y = np.maximum(X, 0.0)\n",
    "        fprop_context = dict(Y=Y)\n",
    "        return Y, fprop_context\n",
    "    \n",
    "    def bprop(self, dLdY, fprop_context):\n",
    "        Y = fprop_context['Y']\n",
    "        return dLdY * (Y>0)\n",
    "\n",
    "    \n",
    "class SoftMaxLayer(Layer):\n",
    "    def __init__(self, **kwargs):\n",
    "        super(SoftMaxLayer, self).__init__(**kwargs)\n",
    "    \n",
    "    def compute_probabilities(self, X):\n",
    "        O = X - X.max(axis=0, keepdims=True)\n",
    "        O = np.exp(O)\n",
    "        O /= O.sum(axis=0, keepdims=True)\n",
    "        return O\n",
    "    \n",
    "    def fprop_cost(self, X, Y):\n",
    "        NS = X.shape[1]\n",
    "        O = self.compute_probabilities(X)\n",
    "        Cost = -1.0/NS * np.log(O[Y.ravel(), range(NS)]).sum()\n",
    "        return Cost, O, dict(O=O, X=X, Y=Y)\n",
    "    \n",
    "    def bprop_cost(self, fprop_context):\n",
    "        X = fprop_context['X']\n",
    "        Y = fprop_context['Y']\n",
    "        O = fprop_context['O']\n",
    "        NS = X.shape[1]\n",
    "        dLdX = O.copy()\n",
    "        dLdX[Y, range(NS)] -= 1.0\n",
    "        dLdX /= NS\n",
    "        return dLdX\n",
    "    \n",
    "class FeedForwardNet(object):\n",
    "    def __init__(self, layers=None):\n",
    "        if layers is None:\n",
    "            layers = []\n",
    "        self.layers = layers\n",
    "    \n",
    "    def add(self, layer):\n",
    "        self.layers.append(layer)\n",
    "    \n",
    "    @property\n",
    "    def parameters(self):\n",
    "        params = []\n",
    "        for layer in self.layers:\n",
    "            params += layer.parameters\n",
    "        return params\n",
    "    \n",
    "    @parameters.setter\n",
    "    def parameters(self, values):\n",
    "        for ownP, newP in zip(self.parameters, values):\n",
    "            ownP[...] = newP\n",
    "    \n",
    "    @property\n",
    "    def parameter_names(self):\n",
    "        param_names = []\n",
    "        for layer in self.layers:\n",
    "            param_names += layer.parameter_names\n",
    "        return param_names\n",
    "    \n",
    "    def fprop(self, X):\n",
    "        for layer in self.layers[:-1]:\n",
    "            X, fp_context = layer.fprop(X)\n",
    "        return self.layers[-1].compute_probabilities(X)\n",
    "    \n",
    "    def get_cost_and_gradient(self, X, Y):\n",
    "        fp_contexts = []\n",
    "        for layer in self.layers[:-1]:\n",
    "            X, fp_context = layer.fprop(X)\n",
    "            fp_contexts.append(fp_context)\n",
    "        \n",
    "        L, O, fp_context = self.layers[-1].fprop_cost(X, Y)\n",
    "        dLdX = self.layers[-1].bprop_cost(fp_context)\n",
    "        \n",
    "        dLdP = [] #gradient with respect to parameters\n",
    "        for i in range(len(self.layers)-1):\n",
    "            layer = self.layers[len(self.layers)-2-i]\n",
    "            fp_context = fp_contexts[len(self.layers)-2-i]\n",
    "            dLdP = layer.get_gradients(dLdX, fp_context) + dLdP\n",
    "            dLdX = layer.bprop(dLdX, fp_context)\n",
    "        return L, O, dLdP\n",
    "\n",
    "class AffineLayer(Layer):\n",
    "    def __init__(self, num_in, num_out, weight_init=None, bias_init=None, **kwargs):\n",
    "        super(AffineLayer, self).__init__(**kwargs)\n",
    "        if weight_init is None:\n",
    "            weight_init = IsotropicGaussian()\n",
    "        if bias_init is None:\n",
    "            bias_init = Constant(0.0)\n",
    "        \n",
    "        self.W = weight_init.generate(self.rng, (num_out, num_in))\n",
    "        self.b = bias_init.generate(self.rng, (num_out, 1))\n",
    "    \n",
    "    @property\n",
    "    def parameters(self):\n",
    "        return [self.W, self.b]\n",
    "    \n",
    "    @property\n",
    "    def parameter_names(self):\n",
    "        return ['W','b']\n",
    "    \n",
    "    def fprop(self, X):\n",
    "        #Save X for later reusal\n",
    "        fprop_context = dict(X=X)\n",
    "        Y = np.dot(self.W, X) + self.b\n",
    "\n",
    "        return Y, fprop_context\n",
    "    \n",
    "    def bprop(self, dLdY, fprop_context):\n",
    "        X = fprop_context['X']\n",
    "\n",
    "        dLdX = np.dot(self.W.T, dLdY)\n",
    "        \n",
    "        return dLdX\n",
    "    \n",
    "    def get_gradients(self, dLdY, fprop_context):\n",
    "        X = fprop_context['X']\n",
    "        dLdW = np.dot(dLdY, X.T)\n",
    "        dLdb = dLdY.sum(1, keepdims=True)\n",
    "        return [dLdW, dLdb]\n",
    "    \n",
    "class TanhLayer(Layer):\n",
    "    def __init__(self, **kwargs):\n",
    "        super(TanhLayer, self).__init__(**kwargs)\n",
    "    \n",
    "    def fprop(self, X):\n",
    "        Y = np.tanh(X)\n",
    "        fprop_context = dict(Y=Y)\n",
    "\n",
    "        return Y, fprop_context\n",
    "    \n",
    "    def bprop(self, dLdY, fprop_context):\n",
    "        Y = fprop_context['Y']\n",
    "        \n",
    "        dLdX = np.multiply((1 - Y ** 2), dLdY)\n",
    "        \n",
    "        return dLdX"
   ]
  },
  {
   "cell_type": "code",
   "execution_count": 6,
   "metadata": {
    "collapsed": true
   },
   "outputs": [],
   "source": [
    "from sklearn import datasets\n",
    "iris = datasets.load_iris()\n",
    "IrisX = iris.data.T\n",
    "IrisX = (IrisX - IrisX.mean(axis=1, keepdims=True)) / IrisX.std(axis=1, keepdims=True)\n",
    "IrisY = iris.target.reshape(1,-1)"
   ]
  },
  {
   "cell_type": "code",
   "execution_count": 7,
   "metadata": {
    "collapsed": false
   },
   "outputs": [
    {
     "name": "stdout",
     "output_type": "stream",
     "text": [
      "At iteration 0, loss 3.359489, train error rate 86.000000%\n",
      "At iteration 1000, loss 0.049581, train error rate 2.000000%\n",
      "At iteration 2000, loss 0.041246, train error rate 1.333333%\n",
      "At iteration 3000, loss 0.038369, train error rate 1.333333%\n",
      "At iteration 4000, loss 0.036796, train error rate 1.333333%\n",
      "At iteration 5000, loss 0.035616, train error rate 1.333333%\n",
      "At iteration 6000, loss 0.034553, train error rate 1.333333%\n",
      "At iteration 7000, loss 0.033507, train error rate 1.333333%\n",
      "At iteration 8000, loss 0.032438, train error rate 1.333333%\n",
      "At iteration 9000, loss 0.031314, train error rate 1.333333%\n",
      "At iteration 10000, loss 0.030045, train error rate 1.333333%\n",
      "At iteration 11000, loss 0.028231, train error rate 1.333333%\n",
      "At iteration 12000, loss 0.025405, train error rate 1.333333%\n",
      "At iteration 13000, loss 0.022200, train error rate 0.666667%\n",
      "At iteration 14000, loss 0.019178, train error rate 0.666667%\n",
      "At iteration 15000, loss 0.016532, train error rate 0.666667%\n",
      "At iteration 16000, loss 0.014311, train error rate 0.666667%\n",
      "At iteration 17000, loss 0.012497, train error rate 0.000000%\n",
      "At iteration 18000, loss 0.011027, train error rate 0.000000%\n",
      "At iteration 19000, loss 0.009829, train error rate 0.000000%\n",
      "At iteration 20000, loss 0.008842, train error rate 0.000000%\n",
      "At iteration 21000, loss 0.008016, train error rate 0.000000%\n",
      "At iteration 22000, loss 0.007317, train error rate 0.000000%\n",
      "At iteration 23000, loss 0.006719, train error rate 0.000000%\n",
      "At iteration 24000, loss 0.006202, train error rate 0.000000%\n",
      "At iteration 25000, loss 0.005751, train error rate 0.000000%\n",
      "At iteration 26000, loss 0.005355, train error rate 0.000000%\n",
      "At iteration 27000, loss 0.005005, train error rate 0.000000%\n",
      "At iteration 28000, loss 0.004692, train error rate 0.000000%\n",
      "At iteration 29000, loss 0.004413, train error rate 0.000000%\n",
      "At iteration 30000, loss 0.004161, train error rate 0.000000%\n",
      "At iteration 31000, loss 0.003934, train error rate 0.000000%\n",
      "At iteration 32000, loss 0.003728, train error rate 0.000000%\n",
      "At iteration 33000, loss 0.003540, train error rate 0.000000%\n",
      "At iteration 34000, loss 0.003368, train error rate 0.000000%\n",
      "At iteration 35000, loss 0.003210, train error rate 0.000000%\n",
      "At iteration 36000, loss 0.003065, train error rate 0.000000%\n",
      "At iteration 37000, loss 0.002931, train error rate 0.000000%\n",
      "At iteration 38000, loss 0.002807, train error rate 0.000000%\n",
      "At iteration 39000, loss 0.002692, train error rate 0.000000%\n",
      "At iteration 40000, loss 0.002585, train error rate 0.000000%\n",
      "Tolerance level reached exiting\n"
     ]
    }
   ],
   "source": [
    "#\n",
    "# Here we verify that the network can be trained on Irises.\n",
    "# Most runs should result in 100% accurracy\n",
    "#\n",
    "\n",
    "net = FeedForwardNet([\n",
    "        AffineLayer(4,10),\n",
    "        TanhLayer(),\n",
    "        AffineLayer(10,3),\n",
    "        SoftMaxLayer()\n",
    "        ])\n",
    "\n",
    "GD(net, IrisX,IrisY, 1e-1, tolerance=1e-7, max_iters=50000)"
   ]
  },
  {
   "cell_type": "markdown",
   "metadata": {},
   "source": [
    "# SGD\n",
    "\n",
    "Your job is to implement SGD training on MNIST with the following elements:\n",
    "1. SGD + momentum\n",
    "2. weight decay\n",
    "3. early stopping\n",
    "\n",
    "In overall, you should get below 2% trainig errors"
   ]
  },
  {
   "cell_type": "markdown",
   "metadata": {},
   "source": [
    "## Reading data from Fuel\n",
    "\n",
    "The following cell prepares the data pipeline in fuel. please see SGD template for usage example"
   ]
  },
  {
   "cell_type": "code",
   "execution_count": 7,
   "metadata": {
    "collapsed": false
   },
   "outputs": [],
   "source": [
    "from fuel.datasets.mnist import MNIST\n",
    "from fuel.transformers import ScaleAndShift, Cast, Flatten, Mapping\n",
    "from fuel.streams import DataStream\n",
    "from fuel.schemes import SequentialScheme, ShuffledScheme\n",
    "\n",
    "MNIST.default_transformers = (\n",
    "    (ScaleAndShift, [2.0 / 255.0, -1], {'which_sources': 'features'}),\n",
    "    (Cast, [np.float32], {'which_sources': 'features'}), \n",
    "    (Flatten, [], {'which_sources': 'features'}),\n",
    "    (Mapping, [lambda batch: (b.T for b in batch)], {}) )\n",
    "\n",
    "mnist_train = MNIST((\"train\",), subset=slice(None,50000))\n",
    "#this stream will shuffle the MNIST set and return us batches of 100 examples\n",
    "mnist_train_stream = DataStream.default_stream(\n",
    "    mnist_train,\n",
    "    iteration_scheme=ShuffledScheme(mnist_train.num_examples, 100))\n",
    "                                               \n",
    "mnist_validation = MNIST((\"train\",), subset=slice(50000, None))\n",
    "\n",
    "# We will use larger portions for testing and validation\n",
    "# as these dont do a backward pass and reauire less RAM.\n",
    "mnist_validation_stream = DataStream.default_stream(\n",
    "    mnist_validation, iteration_scheme=SequentialScheme(mnist_validation.num_examples, 250))\n",
    "mnist_test = MNIST((\"test\",))\n",
    "mnist_test_stream = DataStream.default_stream(\n",
    "    mnist_test, iteration_scheme=SequentialScheme(mnist_test.num_examples, 250))"
   ]
  },
  {
   "cell_type": "code",
   "execution_count": 8,
   "metadata": {
    "collapsed": false
   },
   "outputs": [
    {
     "name": "stdout",
     "output_type": "stream",
     "text": [
      "The streams return batches containing ('features', 'targets')\n",
      "Each trainin batch consits of a tuple containing:\n",
      " - an array of size (784, 100) containing float32\n",
      " - an array of size (1, 100) containing uint8\n",
      "Validation/test batches consits of tuples containing:\n",
      " - an array of size (784, 250) containing float32\n",
      " - an array of size (1, 250) containing uint8\n"
     ]
    }
   ],
   "source": [
    "print(\"The streams return batches containing %s\" % (mnist_train_stream.sources,))\n",
    "\n",
    "print(\"Each trainin batch consits of a tuple containing:\")\n",
    "for element in next(mnist_train_stream.get_epoch_iterator()):\n",
    "    print(\" - an array of size %s containing %s\" % (element.shape, element.dtype))\n",
    "    \n",
    "print(\"Validation/test batches consits of tuples containing:\")\n",
    "for element in next(mnist_test_stream.get_epoch_iterator()):\n",
    "    print(\" - an array of size %s containing %s\" % (element.shape, element.dtype))"
   ]
  },
  {
   "cell_type": "code",
   "execution_count": 210,
   "metadata": {
    "collapsed": false
   },
   "outputs": [],
   "source": [
    "#\n",
    "# Please note, the code blow is able to train a SoftMax regression model on mnist to poor results (ca 8%test error), \n",
    "# you must improve it\n",
    "#\n",
    "\n",
    "from copy import deepcopy\n",
    "\n",
    "def compute_error_rate(net, stream):\n",
    "    num_errs = 0.0\n",
    "    num_examples = 0\n",
    "    for X, Y in stream.get_epoch_iterator():\n",
    "        O = net.fprop(X)\n",
    "        num_errs += (O.argmax(0) != Y).sum()\n",
    "        num_examples += X.shape[1]\n",
    "    return num_errs/num_examples\n",
    "\n",
    "def SGD(net, train_stream, validation_stream, test_stream, alpha0 = 1e-2, epsilon = 0.01, Lambda = 0.01, chart = False):\n",
    "    i=0\n",
    "    e=0\n",
    "    \n",
    "    #initialize momentum variables\n",
    "    # Hint: you need one velocity matrix for each parameter\n",
    "    velocities = [np.zeros_like(P) for P in net.parameters]\n",
    "    \n",
    "    best_valid_error_rate = np.inf\n",
    "    best_params = deepcopy(net.parameters)\n",
    "    best_params_epoch = 0\n",
    "    \n",
    "    train_erros = []\n",
    "    train_loss = []\n",
    "    validation_errors = []\n",
    "    \n",
    "    number_of_epochs = 3\n",
    "    patience_expansion = 1.5\n",
    "    \n",
    "    try:\n",
    "        while e < number_of_epochs: #This loop goes over epochs\n",
    "            e += 1\n",
    "            \n",
    "            # First train on all data from this batch\n",
    "            for X, Y in train_stream.get_epoch_iterator(): \n",
    "                i += 1\n",
    "                \n",
    "                L, O, gradients = net.get_cost_and_gradient(X, Y)\n",
    "                err_rate = (O.argmax(0) != Y).mean()\n",
    "                train_loss.append((i, L))\n",
    "                train_erros.append((i, err_rate))\n",
    "                \n",
    "                #if i % 100 == 0:\n",
    "                #    print(\"At minibatch %d, batch loss %f, batch error rate %f%%\" % (i, L, err_rate*100))\n",
    "                \n",
    "                # Set a learning rate\n",
    "                alpha = alpha0 * (1 - np.tanh(i * 0.549306 / 10000))\n",
    "                \n",
    "                for P, V, G, N in zip(net.parameters, velocities, gradients, net.parameter_names):\n",
    "                    if N=='W':\n",
    "                        # Set the decay coefficient.\n",
    "                        #Lambda = 0.001\n",
    "                        # Implement the weight decay addition to gradient\n",
    "                        G += Lambda * P\n",
    "                    \n",
    "                    # The momentum constant \n",
    "                    #epsilon = 0.01\n",
    "                    \n",
    "                    # Implement velocity update in momentum\n",
    "                    \n",
    "                    V = epsilon * V - alpha * G\n",
    "                    \n",
    "                    #\n",
    "                    # TODO: set a more sensible learning rule here,\n",
    "                    # using your learning rate schedule and momentum\n",
    "                    #\n",
    "                    #!!!!! Need to modify the actual parameter here! \n",
    "                    P += V\n",
    "                    \n",
    "            # After an epoch compute validation error\n",
    "            val_error_rate = compute_error_rate(net, validation_stream)\n",
    "            if val_error_rate < best_valid_error_rate:\n",
    "                number_of_epochs = np.maximum(number_of_epochs, e * patience_expansion+1)\n",
    "                best_valid_error_rate = val_error_rate\n",
    "                best_params = deepcopy(net.parameters)\n",
    "                best_params_epoch = e\n",
    "                validation_errors.append((i,val_error_rate))\n",
    "                \n",
    "            print(\"After epoch %d: valid_err_rate: %.2f%% currently going to do %d epochs\" %(\n",
    "                    e, val_error_rate * 100, number_of_epochs), flush = True)\n",
    "            \n",
    "    except KeyboardInterrupt:\n",
    "        print(\"Setting network parameters from after epoch %d\" %(best_params_epoch))\n",
    "        net.parameters = best_params\n",
    "        \n",
    "        if chart:\n",
    "            subplot(2,1,1)\n",
    "            train_loss = np.array(train_loss)\n",
    "            semilogy(train_loss[:,0], train_loss[:,1], label='batch train loss')\n",
    "            legend()\n",
    "\n",
    "            subplot(2,1,2)\n",
    "            train_erros = np.array(train_erros)\n",
    "            plot(train_erros[:,0], train_erros[:,1], label='batch train error rate')\n",
    "            validation_errors = np.array(validation_errors)\n",
    "            plot(validation_errors[:,0], validation_errors[:,1], label='validation error rate', color='r')\n",
    "            ylim(0,0.2)\n",
    "            legend()"
   ]
  },
  {
   "cell_type": "code",
   "execution_count": 263,
   "metadata": {
    "collapsed": false,
    "scrolled": false
   },
   "outputs": [],
   "source": [
    "def instance(hidden, alpha, epsilon, _lambda, w1 = 1e-2, w2 = 1e-2, chart = False):\n",
    "    net = FeedForwardNet([\n",
    "            AffineLayer(784, hidden, weight_init = Uniform(mean = 0.0, width = w1)),\n",
    "            ReLULayer(),\n",
    "            AffineLayer(hidden, 10, weight_init = Uniform(mean = 0.0, width = w2)),\n",
    "            ReLULayer(),\n",
    "            SoftMaxLayer()\n",
    "            ])\n",
    "\n",
    "    SGD(net, mnist_train_stream, mnist_validation_stream, mnist_test_stream, alpha, epsilon, _lambda, chart)\n",
    "    print(\"Test error rate: %.2f%%\" % (compute_error_rate(net, mnist_test_stream) * 100, ))"
   ]
  },
  {
   "cell_type": "code",
   "execution_count": 272,
   "metadata": {
    "collapsed": false,
    "scrolled": false
   },
   "outputs": [
    {
     "name": "stdout",
     "output_type": "stream",
     "text": [
      "After epoch 1: valid_err_rate: 16.39% currently going to do 3 epochs\n",
      "After epoch 2: valid_err_rate: 13.83% currently going to do 4 epochs\n",
      "After epoch 3: valid_err_rate: 13.25% currently going to do 5 epochs\n",
      "After epoch 4: valid_err_rate: 4.34% currently going to do 7 epochs\n",
      "After epoch 5: valid_err_rate: 3.21% currently going to do 8 epochs\n",
      "After epoch 6: valid_err_rate: 3.33% currently going to do 8 epochs\n",
      "After epoch 7: valid_err_rate: 2.63% currently going to do 11 epochs\n",
      "After epoch 8: valid_err_rate: 2.48% currently going to do 13 epochs\n",
      "After epoch 9: valid_err_rate: 2.59% currently going to do 13 epochs\n",
      "After epoch 10: valid_err_rate: 2.58% currently going to do 13 epochs\n",
      "After epoch 11: valid_err_rate: 2.57% currently going to do 13 epochs\n",
      "After epoch 12: valid_err_rate: 2.45% currently going to do 19 epochs\n",
      "After epoch 13: valid_err_rate: 2.15% currently going to do 20 epochs\n",
      "After epoch 14: valid_err_rate: 2.13% currently going to do 22 epochs\n",
      "After epoch 15: valid_err_rate: 2.13% currently going to do 22 epochs\n",
      "After epoch 16: valid_err_rate: 2.00% currently going to do 25 epochs\n",
      "After epoch 17: valid_err_rate: 2.07% currently going to do 25 epochs\n",
      "After epoch 18: valid_err_rate: 2.06% currently going to do 25 epochs\n",
      "After epoch 19: valid_err_rate: 2.16% currently going to do 25 epochs\n",
      "After epoch 20: valid_err_rate: 1.99% currently going to do 31 epochs\n",
      "After epoch 21: valid_err_rate: 2.14% currently going to do 31 epochs\n",
      "After epoch 22: valid_err_rate: 1.98% currently going to do 34 epochs\n",
      "After epoch 23: valid_err_rate: 1.90% currently going to do 35 epochs\n",
      "After epoch 24: valid_err_rate: 1.91% currently going to do 35 epochs\n",
      "After epoch 25: valid_err_rate: 1.87% currently going to do 38 epochs\n",
      "After epoch 26: valid_err_rate: 1.94% currently going to do 38 epochs\n",
      "After epoch 27: valid_err_rate: 1.90% currently going to do 38 epochs\n",
      "After epoch 28: valid_err_rate: 1.93% currently going to do 38 epochs\n",
      "After epoch 29: valid_err_rate: 1.89% currently going to do 38 epochs\n",
      "After epoch 30: valid_err_rate: 1.93% currently going to do 38 epochs\n",
      "After epoch 31: valid_err_rate: 1.95% currently going to do 38 epochs\n",
      "After epoch 32: valid_err_rate: 1.94% currently going to do 38 epochs\n",
      "After epoch 33: valid_err_rate: 1.91% currently going to do 38 epochs\n",
      "After epoch 34: valid_err_rate: 1.86% currently going to do 52 epochs\n",
      "After epoch 35: valid_err_rate: 1.86% currently going to do 52 epochs\n",
      "After epoch 36: valid_err_rate: 1.82% currently going to do 55 epochs\n",
      "After epoch 37: valid_err_rate: 1.90% currently going to do 55 epochs\n",
      "After epoch 38: valid_err_rate: 1.87% currently going to do 55 epochs\n",
      "Setting network parameters from after epoch 36\n",
      "Test error rate: 1.98%\n"
     ]
    },
    {
     "data": {
      "image/png": "[encoded data removed]",
      "text/plain": [
       "<matplotlib.figure.Figure at 0x7fd435c1dc18>"
      ]
     },
     "metadata": {},
     "output_type": "display_data"
    }
   ],
   "source": [
    "instance(384, 1e-1, 1, 0, 5e-2, 12e-2, True)"
   ]
  },
  {
   "cell_type": "code",
   "execution_count": 258,
   "metadata": {
    "collapsed": false
   },
   "outputs": [
    {
     "name": "stdout",
     "output_type": "stream",
     "text": [
      "After epoch 1: valid_err_rate: 7.45% currently going to do 3 epochs\n",
      "After epoch 2: valid_err_rate: 4.85% currently going to do 4 epochs\n",
      "After epoch 3: valid_err_rate: 4.08% currently going to do 5 epochs\n",
      "After epoch 4: valid_err_rate: 3.50% currently going to do 7 epochs\n",
      "After epoch 5: valid_err_rate: 3.49% currently going to do 8 epochs\n",
      "After epoch 6: valid_err_rate: 3.30% currently going to do 10 epochs\n",
      "After epoch 7: valid_err_rate: 2.85% currently going to do 11 epochs\n",
      "After epoch 8: valid_err_rate: 2.72% currently going to do 13 epochs\n",
      "After epoch 9: valid_err_rate: 2.79% currently going to do 13 epochs\n",
      "After epoch 10: valid_err_rate: 2.50% currently going to do 16 epochs\n",
      "After epoch 11: valid_err_rate: 2.54% currently going to do 16 epochs\n",
      "After epoch 12: valid_err_rate: 2.73% currently going to do 16 epochs\n",
      "After epoch 13: valid_err_rate: 2.31% currently going to do 20 epochs\n",
      "After epoch 14: valid_err_rate: 2.20% currently going to do 22 epochs\n",
      "After epoch 15: valid_err_rate: 2.14% currently going to do 23 epochs\n",
      "After epoch 16: valid_err_rate: 2.36% currently going to do 23 epochs\n",
      "After epoch 17: valid_err_rate: 2.15% currently going to do 23 epochs\n",
      "After epoch 18: valid_err_rate: 2.20% currently going to do 23 epochs\n",
      "After epoch 19: valid_err_rate: 2.10% currently going to do 29 epochs\n",
      "After epoch 20: valid_err_rate: 2.08% currently going to do 31 epochs\n",
      "After epoch 21: valid_err_rate: 2.29% currently going to do 31 epochs\n",
      "After epoch 22: valid_err_rate: 2.13% currently going to do 31 epochs\n",
      "After epoch 23: valid_err_rate: 2.14% currently going to do 31 epochs\n",
      "After epoch 24: valid_err_rate: 2.07% currently going to do 37 epochs\n",
      "After epoch 25: valid_err_rate: 2.26% currently going to do 37 epochs\n",
      "After epoch 26: valid_err_rate: 2.16% currently going to do 37 epochs\n",
      "After epoch 27: valid_err_rate: 2.11% currently going to do 37 epochs\n",
      "After epoch 28: valid_err_rate: 2.04% currently going to do 43 epochs\n",
      "After epoch 29: valid_err_rate: 2.12% currently going to do 43 epochs\n",
      "After epoch 30: valid_err_rate: 2.05% currently going to do 43 epochs\n",
      "Setting network parameters from after epoch 28\n",
      "Test error rate: 1.99%\n"
     ]
    },
    {
     "data": {
      "image/png": "[encoded data removed]",
      "text/plain": [
       "<matplotlib.figure.Figure at 0x7fd435a9fdd8>"
      ]
     },
     "metadata": {},
     "output_type": "display_data"
    }
   ],
   "source": [
    "instance(256, 1e-1, 1, 1e-7, 5e-2, 1e-1, True)\n"
   ]
  },
  {
   "cell_type": "code",
   "execution_count": 243,
   "metadata": {
    "collapsed": false
   },
   "outputs": [
    {
     "name": "stdout",
     "output_type": "stream",
     "text": [
      "After epoch 1: valid_err_rate: 7.34% currently going to do 3 epochs\n",
      "After epoch 2: valid_err_rate: 5.25% currently going to do 4 epochs\n",
      "After epoch 3: valid_err_rate: 4.26% currently going to do 5 epochs\n",
      "After epoch 4: valid_err_rate: 3.96% currently going to do 7 epochs\n",
      "After epoch 5: valid_err_rate: 3.31% currently going to do 8 epochs\n",
      "After epoch 6: valid_err_rate: 3.04% currently going to do 10 epochs\n",
      "After epoch 7: valid_err_rate: 2.93% currently going to do 11 epochs\n",
      "After epoch 8: valid_err_rate: 3.11% currently going to do 11 epochs\n",
      "After epoch 9: valid_err_rate: 2.96% currently going to do 11 epochs\n",
      "After epoch 10: valid_err_rate: 2.65% currently going to do 16 epochs\n",
      "After epoch 11: valid_err_rate: 2.31% currently going to do 17 epochs\n",
      "After epoch 12: valid_err_rate: 2.40% currently going to do 17 epochs\n",
      "After epoch 13: valid_err_rate: 2.51% currently going to do 17 epochs\n",
      "After epoch 14: valid_err_rate: 2.24% currently going to do 22 epochs\n",
      "After epoch 15: valid_err_rate: 2.37% currently going to do 22 epochs\n",
      "After epoch 16: valid_err_rate: 2.26% currently going to do 22 epochs\n",
      "After epoch 17: valid_err_rate: 2.20% currently going to do 26 epochs\n",
      "After epoch 18: valid_err_rate: 2.10% currently going to do 28 epochs\n",
      "After epoch 19: valid_err_rate: 2.31% currently going to do 28 epochs\n",
      "After epoch 20: valid_err_rate: 2.24% currently going to do 28 epochs\n",
      "After epoch 21: valid_err_rate: 2.30% currently going to do 28 epochs\n",
      "After epoch 22: valid_err_rate: 2.17% currently going to do 28 epochs\n",
      "After epoch 23: valid_err_rate: 2.18% currently going to do 28 epochs\n",
      "After epoch 24: valid_err_rate: 2.20% currently going to do 28 epochs\n",
      "After epoch 25: valid_err_rate: 2.18% currently going to do 28 epochs\n",
      "After epoch 26: valid_err_rate: 2.13% currently going to do 28 epochs\n",
      "After epoch 27: valid_err_rate: 2.20% currently going to do 28 epochs\n",
      "After epoch 28: valid_err_rate: 2.07% currently going to do 43 epochs\n",
      "After epoch 29: valid_err_rate: 2.23% currently going to do 43 epochs\n",
      "After epoch 30: valid_err_rate: 2.20% currently going to do 43 epochs\n",
      "Setting network parameters from after epoch 28\n",
      "Test error rate: 2.10%\n"
     ]
    },
    {
     "data": {
      "image/png": "[encoded data removed]",
      "text/plain": [
       "<matplotlib.figure.Figure at 0x7fd4393d3cf8>"
      ]
     },
     "metadata": {},
     "output_type": "display_data"
    }
   ],
   "source": [
    "instance(128, 1e-1, 1, 1e-5, 5e-2, 1e-1, True)\n"
   ]
  },
  {
   "cell_type": "code",
   "execution_count": 237,
   "metadata": {
    "collapsed": false
   },
   "outputs": [
    {
     "name": "stdout",
     "output_type": "stream",
     "text": [
      "After epoch 1: valid_err_rate: 7.79% currently going to do 3 epochs\n",
      "After epoch 2: valid_err_rate: 6.03% currently going to do 4 epochs\n",
      "After epoch 3: valid_err_rate: 5.21% currently going to do 5 epochs\n",
      "After epoch 4: valid_err_rate: 4.20% currently going to do 7 epochs\n",
      "After epoch 5: valid_err_rate: 3.92% currently going to do 8 epochs\n",
      "After epoch 6: valid_err_rate: 3.83% currently going to do 10 epochs\n",
      "After epoch 7: valid_err_rate: 3.58% currently going to do 11 epochs\n",
      "After epoch 8: valid_err_rate: 3.30% currently going to do 13 epochs\n",
      "After epoch 9: valid_err_rate: 3.13% currently going to do 14 epochs\n",
      "After epoch 10: valid_err_rate: 3.17% currently going to do 14 epochs\n",
      "After epoch 11: valid_err_rate: 3.05% currently going to do 17 epochs\n",
      "After epoch 12: valid_err_rate: 3.03% currently going to do 19 epochs\n",
      "After epoch 13: valid_err_rate: 3.10% currently going to do 19 epochs\n",
      "After epoch 14: valid_err_rate: 2.85% currently going to do 22 epochs\n",
      "After epoch 15: valid_err_rate: 3.23% currently going to do 22 epochs\n",
      "After epoch 16: valid_err_rate: 2.79% currently going to do 25 epochs\n",
      "After epoch 17: valid_err_rate: 2.80% currently going to do 25 epochs\n",
      "After epoch 18: valid_err_rate: 2.84% currently going to do 25 epochs\n",
      "After epoch 19: valid_err_rate: 2.71% currently going to do 29 epochs\n",
      "After epoch 20: valid_err_rate: 2.78% currently going to do 29 epochs\n",
      "After epoch 21: valid_err_rate: 2.78% currently going to do 29 epochs\n",
      "After epoch 22: valid_err_rate: 2.65% currently going to do 34 epochs\n",
      "After epoch 23: valid_err_rate: 2.58% currently going to do 35 epochs\n",
      "After epoch 24: valid_err_rate: 2.55% currently going to do 37 epochs\n",
      "After epoch 25: valid_err_rate: 2.69% currently going to do 37 epochs\n",
      "After epoch 26: valid_err_rate: 2.61% currently going to do 37 epochs\n",
      "After epoch 27: valid_err_rate: 2.50% currently going to do 41 epochs\n",
      "After epoch 28: valid_err_rate: 2.43% currently going to do 43 epochs\n",
      "After epoch 29: valid_err_rate: 2.54% currently going to do 43 epochs\n",
      "After epoch 30: valid_err_rate: 2.54% currently going to do 43 epochs\n",
      "After epoch 31: valid_err_rate: 2.58% currently going to do 43 epochs\n",
      "After epoch 32: valid_err_rate: 2.60% currently going to do 43 epochs\n",
      "After epoch 33: valid_err_rate: 2.46% currently going to do 43 epochs\n",
      "After epoch 34: valid_err_rate: 2.57% currently going to do 43 epochs\n",
      "Setting network parameters from after epoch 28\n",
      "Test error rate: 2.66%\n"
     ]
    },
    {
     "data": {
      "image/png": "[encoded data removed]",
      "text/plain": [
       "<matplotlib.figure.Figure at 0x7fd43525df60>"
      ]
     },
     "metadata": {},
     "output_type": "display_data"
    }
   ],
   "source": [
    "# tanh/relu\n",
    "instance(100, 1e-1, 1, 1e-3, 5e-2, 1e-1, True)\n"
   ]
  },
  {
   "cell_type": "code",
   "execution_count": 231,
   "metadata": {
    "collapsed": false
   },
   "outputs": [
    {
     "name": "stdout",
     "output_type": "stream",
     "text": [
      "After epoch 1: valid_err_rate: 8.96% currently going to do 3 epochs\n",
      "After epoch 2: valid_err_rate: 7.36% currently going to do 4 epochs\n",
      "After epoch 3: valid_err_rate: 6.74% currently going to do 5 epochs\n",
      "After epoch 4: valid_err_rate: 6.29% currently going to do 7 epochs\n",
      "After epoch 5: valid_err_rate: 5.59% currently going to do 8 epochs\n",
      "After epoch 6: valid_err_rate: 5.65% currently going to do 8 epochs\n",
      "After epoch 7: valid_err_rate: 4.98% currently going to do 11 epochs\n",
      "After epoch 8: valid_err_rate: 5.04% currently going to do 11 epochs\n",
      "After epoch 9: valid_err_rate: 4.64% currently going to do 14 epochs\n",
      "After epoch 10: valid_err_rate: 4.39% currently going to do 16 epochs\n",
      "After epoch 11: valid_err_rate: 4.45% currently going to do 16 epochs\n",
      "After epoch 12: valid_err_rate: 4.28% currently going to do 19 epochs\n",
      "After epoch 13: valid_err_rate: 4.05% currently going to do 20 epochs\n",
      "After epoch 14: valid_err_rate: 3.94% currently going to do 22 epochs\n",
      "After epoch 15: valid_err_rate: 3.95% currently going to do 22 epochs\n",
      "After epoch 16: valid_err_rate: 3.77% currently going to do 25 epochs\n",
      "After epoch 17: valid_err_rate: 3.90% currently going to do 25 epochs\n",
      "After epoch 18: valid_err_rate: 3.64% currently going to do 28 epochs\n",
      "After epoch 19: valid_err_rate: 3.50% currently going to do 29 epochs\n",
      "After epoch 20: valid_err_rate: 3.50% currently going to do 29 epochs\n",
      "After epoch 21: valid_err_rate: 3.63% currently going to do 29 epochs\n",
      "After epoch 22: valid_err_rate: 3.38% currently going to do 34 epochs\n",
      "After epoch 23: valid_err_rate: 3.27% currently going to do 35 epochs\n",
      "After epoch 24: valid_err_rate: 3.37% currently going to do 35 epochs\n",
      "After epoch 25: valid_err_rate: 3.42% currently going to do 35 epochs\n",
      "After epoch 26: valid_err_rate: 3.38% currently going to do 35 epochs\n",
      "Setting network parameters from after epoch 23\n",
      "Test error rate: 3.65%\n"
     ]
    },
    {
     "data": {
      "image/png": "[encoded data removed]",
      "text/plain": [
       "<matplotlib.figure.Figure at 0x7fd435c7a898>"
      ]
     },
     "metadata": {},
     "output_type": "display_data"
    }
   ],
   "source": [
    "instance(100, 1e-1, 1, 1e-3, 5e-2, 1e-1, True)\n"
   ]
  },
  {
   "cell_type": "code",
   "execution_count": 223,
   "metadata": {
    "collapsed": false
   },
   "outputs": [
    {
     "name": "stdout",
     "output_type": "stream",
     "text": [
      "After epoch 1: valid_err_rate: 9.26% currently going to do 3 epochs\n",
      "Setting network parameters from after epoch 1\n",
      "Test error rate: 9.45%\n",
      "After epoch 1: valid_err_rate: 9.17% currently going to do 3 epochs\n",
      "Setting network parameters from after epoch 1\n",
      "Test error rate: 9.33%\n",
      "After epoch 1: valid_err_rate: 9.69% currently going to do 3 epochs\n",
      "Setting network parameters from after epoch 1\n",
      "Test error rate: 9.95%\n",
      "After epoch 1: valid_err_rate: 9.59% currently going to do 3 epochs\n",
      "Setting network parameters from after epoch 1\n",
      "Test error rate: 9.92%\n"
     ]
    }
   ],
   "source": [
    "instance(30, 1e-1, 1, 1e-3, 2e-1, 5e-2, False)\n",
    "instance(30, 1e-1, 1, 1e-3, 1e-1, 5e-2, False)\n",
    "instance(30, 1e-1, 1, 1e-3, 5e-2, 5e-2, False)\n",
    "instance(30, 1e-1, 1, 1e-3, 2e-2, 5e-2, False)"
   ]
  },
  {
   "cell_type": "code",
   "execution_count": 194,
   "metadata": {
    "collapsed": false
   },
   "outputs": [
    {
     "name": "stdout",
     "output_type": "stream",
     "text": [
      "After epoch 1: valid_err_rate: 9.76% currently going to do 3 epochs\n",
      "After epoch 2: valid_err_rate: 8.11% currently going to do 4 epochs\n",
      "After epoch 3: valid_err_rate: 7.64% currently going to do 5 epochs\n",
      "After epoch 4: valid_err_rate: 6.86% currently going to do 7 epochs\n",
      "After epoch 5: valid_err_rate: 6.17% currently going to do 8 epochs\n",
      "After epoch 6: valid_err_rate: 5.79% currently going to do 10 epochs\n",
      "After epoch 7: valid_err_rate: 5.57% currently going to do 11 epochs\n",
      "After epoch 8: valid_err_rate: 5.18% currently going to do 13 epochs\n",
      "After epoch 9: valid_err_rate: 4.77% currently going to do 14 epochs\n",
      "After epoch 10: valid_err_rate: 4.82% currently going to do 14 epochs\n",
      "After epoch 11: valid_err_rate: 4.49% currently going to do 17 epochs\n",
      "After epoch 12: valid_err_rate: 4.43% currently going to do 19 epochs\n",
      "After epoch 13: valid_err_rate: 4.19% currently going to do 20 epochs\n",
      "After epoch 14: valid_err_rate: 4.14% currently going to do 22 epochs\n",
      "Setting network parameters from after epoch 14\n",
      "Test error rate: 4.53%\n"
     ]
    },
    {
     "data": {
      "image/png": "[encoded data removed]",
      "text/plain": [
       "<matplotlib.figure.Figure at 0x7fd4393d3e10>"
      ]
     },
     "metadata": {},
     "output_type": "display_data"
    }
   ],
   "source": [
    "instance(300, 1e-1, 1, 1e-3, 1e-2)"
   ]
  },
  {
   "cell_type": "code",
   "execution_count": 276,
   "metadata": {
    "collapsed": false
   },
   "outputs": [
    {
     "name": "stdout",
     "output_type": "stream",
     "text": [
      "12.95%\n"
     ]
    }
   ],
   "source": [
    "print(\"{:.2%}\".format(compute_error_rate(net, mnist_test_stream)))"
   ]
  }
 ],
 "metadata": {
  "kernelspec": {
   "display_name": "Python 3",
   "language": "python",
   "name": "python3"
  },
  "language_info": {
   "codemirror_mode": {
    "name": "ipython",
    "version": 3
   },
   "file_extension": ".py",
   "mimetype": "text/x-python",
   "name": "python",
   "nbconvert_exporter": "python",
   "pygments_lexer": "ipython3",
   "version": "3.4.3"
  }
 },
 "nbformat": 4,
 "nbformat_minor": 0
}

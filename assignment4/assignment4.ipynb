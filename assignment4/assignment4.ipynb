{
 "cells": [
  {
   "cell_type": "code",
   "execution_count": 3,
   "metadata": {
    "collapsed": false
   },
   "outputs": [
    {
     "name": "stdout",
     "output_type": "stream",
     "text": [
      "Populating the interactive namespace from numpy and matplotlib\n"
     ]
    }
   ],
   "source": [
    "%pylab inline"
   ]
  },
  {
   "cell_type": "code",
   "execution_count": 4,
   "metadata": {
    "collapsed": true
   },
   "outputs": [],
   "source": [
    "import scipy.optimize as sopt\n",
    "\n",
    "from sklearn import datasets\n",
    "from sklearn import metrics"
   ]
  },
  {
   "cell_type": "code",
   "execution_count": 5,
   "metadata": {
    "collapsed": false
   },
   "outputs": [],
   "source": [
    "sys.path.append('../')\n",
    "from common.gradients import check_gradient, numerical_gradient, encode_params, decode_params"
   ]
  },
  {
   "cell_type": "markdown",
   "metadata": {},
   "source": [
    "# Problem 1"
   ]
  },
  {
   "cell_type": "markdown",
   "metadata": {},
   "source": [
    "\n",
    "\n",
    "$\\dfrac{\\partial J^{(i)}}{\\partial a_k^{(i)}} \n",
    "=\\dfrac{\\partial \\left(-\\displaystyle\\sum_{k=1}^{K}[y^{(i)} = k] \\log o_k^{(i)}\\right)}{\\partial a_k^{(i)}}\n",
    "=\\dfrac{\\partial \\left(-\\displaystyle\\sum_{k=1}^{K}[y^{(i)} = k] \\log \\frac{\\exp {a_k^{(i)}}}{\\sum_{j = 1}^K \\exp a_j^{(i)}} \\right)}{\\partial a_k^{(i)}} \n",
    "$"
   ]
  },
  {
   "cell_type": "markdown",
   "metadata": {
    "collapsed": true
   },
   "source": [
    "$\n",
    "=\\dfrac{\\partial \\left(-\\displaystyle\\sum_{k=1}^{K}[y^{(i)} = k] \\cdot \\left( \\log (\\exp {a_k^{(i)}}) - \\log \\sum_{j = 1}^K \\exp a_j^{(i)}\\right) \\right)}{\\partial a_k^{(i)}} \n",
    "=\\dfrac{\\partial \\left(-\\displaystyle\\sum_{k=1}^{K}[y^{(i)} = k] \\cdot \\left( a_k^{(i)} - \\log \\sum_{j = 1}^K \\exp a_j^{(i)}\\right) \\right)}{\\partial a_k^{(i)}} \n",
    "$"
   ]
  },
  {
   "cell_type": "markdown",
   "metadata": {
    "collapsed": true
   },
   "source": [
    "$\n",
    "=\\dfrac{\\partial \\left(-\\displaystyle\\sum_{k=1}^{K}[y^{(i)} = k] \\cdot a_k^{(i)} \\right)}{\\partial a^{(i)}_k}\n",
    "+ \\dfrac{\\partial \\left(\\displaystyle\\sum_{k=1}^{K}[y^{(i)} = k] \\cdot \\log \\sum_{j=1}^{K} \\exp a_j^{(i)} \\right)}{\\partial a^{(i)}_k} \n",
    "$"
   ]
  },
  {
   "cell_type": "markdown",
   "metadata": {
    "collapsed": true
   },
   "source": [
    "$\n",
    "= \\dfrac{\\partial \\left(\\log \\displaystyle\\sum_{j=1}^{K} \\exp a_j^{(i)} \\cdot \\displaystyle\\sum_{k=1}^{K}[y^{(i)} = k]  \\right)}{\\partial a^{(i)}_k}  - [y^{(i)} = k]\n",
    "= \\dfrac{\\partial \\left(\\log \\sum_{j=1}^{K} \\exp a_j^{(i)} \\right)}{\\partial a^{(i)}_k}  - [y^{(i)} = k]$"
   ]
  },
  {
   "cell_type": "markdown",
   "metadata": {
    "collapsed": true
   },
   "source": [
    "$\n",
    "= \\dfrac{\n",
    "\\dfrac{\\partial \\left(\\sum_{j=1}^{K} \\exp a_j^{(i)} \\right)}{\\partial a^{(i)}_k}\n",
    "}\n",
    "{\\sum_{j=1}^{K} \\exp a_j^{(i)}} - [y^{(i)} = k]\n",
    "= \\dfrac{\n",
    "\\dfrac{\\partial \\exp a_k^{(i)}}{\\partial a^{(i)}_k}\n",
    "}\n",
    "{\\sum_{j=1}^{K} \\exp a_j^{(i)}} - [y^{(i)} = k]\n",
    "= \\dfrac{\n",
    "\\exp a_k^{(i)}\n",
    "}\n",
    "{\\sum_{j=1}^{K} \\exp a_j^{(i)}} - [y^{(i)} = k]\n",
    "= o_k - [y^{(i)} = k]\n",
    "$"
   ]
  },
  {
   "cell_type": "markdown",
   "metadata": {
    "collapsed": true
   },
   "source": [
    "# Problem 2"
   ]
  },
  {
   "cell_type": "markdown",
   "metadata": {
    "collapsed": true
   },
   "source": [
    "$\\dfrac{\\exp (a_k + c)}{\\sum \\exp (a_j + c)}$\n",
    "$= \\dfrac{\\exp a_k \\cdot \\exp c}{\\sum \\exp a_j \\cdot \\exp c}$\n",
    "$= \\dfrac{\\exp a_k \\cdot \\exp c}{\\exp c \\cdot \\sum \\exp a_j}$\n",
    "$= \\dfrac{\\exp a_k}{\\sum \\exp a_j} = o_k$\n",
    "\n",
    "Nothings happen."
   ]
  },
  {
   "cell_type": "markdown",
   "metadata": {
    "collapsed": true
   },
   "source": [
    "Logistic regression:\n",
    "\n",
    "$p(class = 1 \\lvert x, \\ddot\\Theta) = h_{\\ddot\\Theta} (x) = \\sigma \\left( \\ddot\\Theta x \\right) = \\dfrac{1}{1 + \\exp (-\\ddot\\Theta x)} $\n",
    "\n",
    "Softmax $K = 2$:\n",
    "\n",
    "$p(class = 1 \\lvert x, \\Theta) = \\dfrac{\\exp a_k}{\\sum_{j=1}^{K} \\exp a_j} = \\dfrac{\\exp a_1}{\\exp a_1 + \\exp a_2}\n",
    "$\n",
    "\n",
    "$= \\dfrac{\\exp a_1 \\cdot \\exp (-a_1)}{(\\exp a_1 + \\exp a_2) \\exp (-a_1)} = \\dfrac{1}{1 - \\exp (a_2 - a_1)}$\n",
    "\n",
    "\n",
    "$= \\dfrac{1}{1 - \\exp (a_2 - a_1)} = \\dfrac{1}{1 - \\exp (\\Theta_2x - \\Theta_1x)} = \\dfrac{1}{1 - \\exp (\\ddot\\Theta x)}$\n",
    "\n",
    "They're equivalent."
   ]
  },
  {
   "cell_type": "markdown",
   "metadata": {},
   "source": [
    "# Problem 3"
   ]
  },
  {
   "cell_type": "code",
   "execution_count": 6,
   "metadata": {
    "collapsed": false
   },
   "outputs": [
    {
     "name": "stdout",
     "output_type": "stream",
     "text": [
      "IrisXFull is a (5, 150)-shaped matrix of float64\n",
      "IrisX2feats is a (3, 150)-shaped matrix of float64\n",
      "IrisY is a (1, 150)-shaped matrix of int64\n"
     ]
    },
    {
     "data": {
      "text/plain": [
       "<matplotlib.text.Text at 0x7f73e6d9cf98>"
      ]
     },
     "execution_count": 6,
     "metadata": {},
     "output_type": "execute_result"
    },
    {
     "data": {
      "image/png": "[encoded data removed]",
      "text/plain": [
       "<matplotlib.figure.Figure at 0x7f73e72259e8>"
      ]
     },
     "metadata": {},
     "output_type": "display_data"
    }
   ],
   "source": [
    "#\n",
    "# Here we load the IRIS dataset.\n",
    "# We will create two datasets: one using all features, and one using just Petal Langth and Petal Width for visualizations\n",
    "#\n",
    "iris = datasets.load_iris()\n",
    "petal_length = iris.data[:,iris.feature_names.index('petal length (cm)')]\n",
    "petal_width = iris.data[:, iris.feature_names.index('petal width (cm)')]\n",
    "\n",
    "IrisXFull = np.vstack([np.ones_like(petal_length), iris.data.T])\n",
    "IrisX2feats = np.vstack([np.ones_like(petal_length), petal_length, petal_width])\n",
    "IrisY = iris.target.reshape(1,-1).astype(np.int64)\n",
    "\n",
    "print(\"IrisXFull is a {}-shaped matrix of {}\".format(IrisXFull.shape, IrisXFull.dtype))\n",
    "print(\"IrisX2feats is a {}-shaped matrix of {}\".format(IrisX2feats.shape, IrisX2feats.dtype))\n",
    "print(\"IrisY is a {}-shaped matrix of {}\".format(IrisY.shape, IrisY.dtype))\n",
    "\n",
    "scatter(IrisX2feats[1,:], IrisX2feats[2,:], c=IrisY.ravel(), cmap='spring')\n",
    "xlabel('petal_length')\n",
    "ylabel('petal_width')"
   ]
  },
  {
   "cell_type": "code",
   "execution_count": 7,
   "metadata": {
    "collapsed": false,
    "scrolled": false
   },
   "outputs": [
    {
     "data": {
      "text/plain": [
       "True"
      ]
     },
     "execution_count": 7,
     "metadata": {},
     "output_type": "execute_result"
    }
   ],
   "source": [
    "def SoftMaxRegression_implementation(ThetaFlat, X, Y=None, return_probabilities=False):\n",
    "    \"\"\"\n",
    "    Compute the outputs of a softmax classifier, or the loss and gradient\n",
    "    \n",
    "    Parameters\n",
    "    ----------\n",
    "    ThetaFlat : \n",
    "        flat array of parameters containing (n_features*n_classes) entries\n",
    "    X :\n",
    "        array of features, shape n_features x n_samples\n",
    "    Y :\n",
    "        optional array of desired targets of shape 1 x n_samples\n",
    "    return_probabilities : \n",
    "        if True, the probabilities are returned and Y is not used\n",
    "        if False, the loss and gradient is computed on the X,Y pairs\n",
    "    \"\"\"\n",
    "    #X is num_features x num_samples\n",
    "    num_features, num_samples = X.shape\n",
    "\n",
    "    #Theta is num_features x num_classes\n",
    "    #we first reshape ThetaFlat into Theta\n",
    "    Theta = ThetaFlat.reshape(num_features, -1)\n",
    "\n",
    "    num_classes = Theta.shape[1]\n",
    "    \n",
    "    #Activation of softmax neurons\n",
    "    #A's shape should be num_classes x num_samples\n",
    "    #\n",
    "    \n",
    "    A = np.dot(Theta.T, X)\n",
    "    \n",
    "    #Now compute the SoftMax function\n",
    "    #O will be a num_classes x num_samples matrix of probabilities assigned by our model  \n",
    "    #Stability optimization - for each subtract the maximum activation\n",
    "    O = A - A.max(0, keepdims=True)\n",
    "    \n",
    "    #\n",
    "    # TODO - compute SoftMax as vector O. Take the exp and normalize, so all values of O\n",
    "    #        would sum to 1.0.\n",
    "    #\n",
    "    \n",
    "    Osum = (1 / sum(np.exp(O), 0))\n",
    "    O = np.exp(O) * Osum\n",
    "    \n",
    "    if return_probabilities:\n",
    "        return O\n",
    "    \n",
    "    #The loss is the average per-sample nll (neg log likelihood)\n",
    "    #The nll is the sum of the logarithms of probabilities assigned to each class\n",
    "    correct_class_likelihoods = np.log(O[Y.ravel(), np.arange(num_samples)])\n",
    "    L = - 1.0 / num_samples * np.sum(correct_class_likelihoods)\n",
    "\n",
    "    #For the softmax activation and cross-entropy loss, the derivative dNLL/dA has a simple form\n",
    "    #Please fill in its computation\n",
    "    \n",
    "    Yeqk = (np.tile(np.arange(num_classes).reshape(num_classes, 1), (num_samples,)) == Y).astype(np.float)\n",
    "    \n",
    "    dLdA = (O - Yeqk)\n",
    "    \n",
    "    #Now we compute the gradient of the loss with respect to Theta\n",
    "    dLdTheta = np.dot(X, dLdA.T) / num_samples\n",
    "    \n",
    "    #reshape gard into the shape of Theta, for fmin_l_bfsgb to work\n",
    "    return L, dLdTheta.reshape(ThetaFlat.shape)\n",
    "\n",
    "#Make a function for training on irises\n",
    "iris_log_reg_cost = lambda Theta: SoftMaxRegression_implementation(Theta, IrisXFull, IrisY, False)\n",
    "#Make sure that the gradient computation is OK\n",
    "check_gradient(iris_log_reg_cost, np.zeros((3*5,)))\n",
    "check_gradient(iris_log_reg_cost, np.random.rand(3*5)*2.0-1.0)"
   ]
  },
  {
   "cell_type": "code",
   "execution_count": 8,
   "metadata": {
    "collapsed": false
   },
   "outputs": [
    {
     "data": {
      "text/plain": [
       "True"
      ]
     },
     "execution_count": 8,
     "metadata": {},
     "output_type": "execute_result"
    }
   ],
   "source": [
    "#\n",
    "# Call a solver\n",
    "#\n",
    "\n",
    "#iprint will cause the solver to print TO THE TERMINAL from which ipython notebook was started\n",
    "ThetaOpt = sopt.fmin_l_bfgs_b(iris_log_reg_cost, np.zeros((3*5,)), iprint=1)[0]\n",
    "\n",
    "check_gradient(iris_log_reg_cost, ThetaOpt)"
   ]
  },
  {
   "cell_type": "code",
   "execution_count": 9,
   "metadata": {
    "collapsed": false
   },
   "outputs": [
    {
     "name": "stdout",
     "output_type": "stream",
     "text": [
      "Training accurracy: 98.666667%\n"
     ]
    }
   ],
   "source": [
    "#\n",
    "# Compute training errors\n",
    "#\n",
    "\n",
    "probabilities = SoftMaxRegression_implementation(ThetaOpt, IrisXFull, return_probabilities=True)\n",
    "predictions = np.argmax(probabilities,0)\n",
    "\n",
    "print(\"Training accurracy: %f%%\" % ((predictions==IrisY.ravel()).mean()*100))"
   ]
  },
  {
   "cell_type": "code",
   "execution_count": 10,
   "metadata": {
    "collapsed": false
   },
   "outputs": [
    {
     "name": "stdout",
     "output_type": "stream",
     "text": [
      "Training accurracy: 96.000000%\n"
     ]
    }
   ],
   "source": [
    "#\n",
    "# Now redo the training for two features\n",
    "#\n",
    "# TODO - again, use l_bfgs to find optimal theta, then compute probabilities and new predictions.\n",
    "#\n",
    "\n",
    "iris_log_reg_cost = lambda Theta: SoftMaxRegression_implementation(Theta, IrisX2feats, IrisY, False)\n",
    "\n",
    "Theta2class = sopt.fmin_l_bfgs_b(iris_log_reg_cost, np.zeros((3*3,)), iprint=1)[0]\n",
    "\n",
    "check_gradient(iris_log_reg_cost, ThetaOpt)\n",
    "\n",
    "probabilities = SoftMaxRegression_implementation(Theta2class, IrisX2feats, return_probabilities=True)\n",
    "predictions = np.argmax(probabilities,0)\n",
    "\n",
    "print(\"Training accurracy: %f%%\" % ((predictions==IrisY.ravel()).mean()*100))"
   ]
  },
  {
   "cell_type": "code",
   "execution_count": 137,
   "metadata": {
    "collapsed": false
   },
   "outputs": [],
   "source": [
    "#\n",
    "# Now plot the decision boundary\n",
    "# \n",
    "\n",
    "petal_lengths, petal_widths = np.meshgrid(np.linspace(IrisX2feats[1,:].min(), IrisX2feats[1,:].max(), 100),\n",
    "                                          np.linspace(IrisX2feats[2,:].min(), IrisX2feats[2,:].max(), 100))\n",
    "\n",
    "IrisXGrid = np.vstack([np.ones(np.prod(petal_lengths.shape)), petal_lengths.ravel(), petal_widths.ravel()])\n",
    "predictions_Grid = SoftMaxRegression_implementation(Theta2class, IrisXGrid, return_probabilities=True).argmax(0)"
   ]
  },
  {
   "cell_type": "code",
   "execution_count": 138,
   "metadata": {
    "collapsed": false
   },
   "outputs": [
    {
     "data": {
      "text/plain": [
       "<matplotlib.text.Text at 0x7fd69a3e6080>"
      ]
     },
     "execution_count": 138,
     "metadata": {},
     "output_type": "execute_result"
    },
    {
     "name": "stderr",
     "output_type": "stream",
     "text": [
      "/usr/local/lib/python3.4/dist-packages/matplotlib/collections.py:590: FutureWarning: elementwise comparison failed; returning scalar instead, but in the future will perform elementwise comparison\n",
      "  if self._edgecolors == str('face'):\n"
     ]
    },
    {
     "data": {
      "image/png": "[encoded data removed]",
      "text/plain": [
       "<matplotlib.figure.Figure at 0x7fd69a45fbe0>"
      ]
     },
     "metadata": {},
     "output_type": "display_data"
    }
   ],
   "source": [
    "contourf(petal_lengths, petal_widths, predictions_Grid.reshape(petal_lengths.shape), cmap='spring')\n",
    "scatter(IrisX2feats[1,:], IrisX2feats[2,:], c=IrisY.ravel(), cmap='spring')\n",
    "xlabel('petal_length')\n",
    "ylabel('petal_width')\n",
    "title('Decision boundary found by SoftMAx regression')"
   ]
  },
  {
   "cell_type": "markdown",
   "metadata": {},
   "source": [
    "# Problem 4\n",
    "\n",
    "Please note, that we **move the addition of the bias term** into the network implementation! Please note, that typically instead of changing the inputs we keep another vector of bias terms."
   ]
  },
  {
   "cell_type": "code",
   "execution_count": 11,
   "metadata": {
    "collapsed": true
   },
   "outputs": [],
   "source": [
    "def TwoLayerNet_implementation(ThetaFlat, ThetaShapes, X, Y=None, return_probabilities=False):\n",
    "    \"\"\"\n",
    "    Compute the outputs of a softmax classifier, or the loss and gradient\n",
    "    \n",
    "    Parameters\n",
    "    ----------\n",
    "    ThetaFlat : \n",
    "        flat array of parameters\n",
    "    ThetaShapes :\n",
    "        list of shapes of weight and bias matrices\n",
    "    X :\n",
    "        array of features, shape n_features x n_smaples\n",
    "    Y :\n",
    "        optional array of desired targets of shape 1 x n_samples\n",
    "    return_probabilities : \n",
    "        if True, the probabilities are returned and Y is not used\n",
    "        if False, the los and gradient is computed on the X,Y pairs\n",
    "    \"\"\"\n",
    "    #X is num_features x num_samples\n",
    "    num_features, num_samples = X.shape\n",
    "\n",
    "    #Extract weight matrices\n",
    "    W1, W2 = decode_params(ThetaFlat, ThetaShapes)\n",
    "    \n",
    "    X_padded = np.vstack([np.ones((1, num_samples)), X])\n",
    "    \n",
    "    # Activation in first layer. Shape is num_hidden x num_samples\n",
    "    \n",
    "    A1 = np.dot(W1.T, X_padded)\n",
    "    \n",
    "    # Apply the transfer function\n",
    "    # Should I compute the tanh indirectly from the formula with the exponents ???\n",
    "    \n",
    "    H1 = np.tanh(A1)\n",
    "    \n",
    "    #Pad with zeros\n",
    "    H1_padded = np.vstack([np.ones((1, num_samples)), H1])\n",
    "    \n",
    "    #Now apply the second linear transform\n",
    "    \n",
    "    A2 = np.dot(W2.T, H1_padded)\n",
    "        \n",
    "    # Now compute the SoftMax function\n",
    "    # O will be a num_classes x num_samples matrix of probabilities assigned by our model  \n",
    "    # Stability optimization - for each subtract the maximum activation\n",
    "    \n",
    "    O = A2 - A2.max(0, keepdims=True)\n",
    "    \n",
    "    # Compute SoftMax as vector O. Take the exp and normalize, so all values of O\n",
    "    # would sum to 1.0.\n",
    "    \n",
    "    Osum = (1 / sum(np.exp(O), 0))\n",
    "    O = np.exp(O) * Osum\n",
    "\n",
    "    if return_probabilities:\n",
    "        return O\n",
    "    \n",
    "    #The loss is the average per-sample nll (neg log likelihood)\n",
    "    #The nll is the sum of the logarithms of probabilities assigned to each class\n",
    "    correct_class_likelihoods = np.log(O[Y.ravel(), np.arange(num_samples)])\n",
    "    L = - 1.0 / num_samples * np.sum(correct_class_likelihoods)\n",
    "\n",
    "    #For the softmax activation and cross-entropy loss, the derivative dNLL/dA has a simple form\n",
    "    #Please fill in its computation\n",
    "    \n",
    "    num_classes = W2.shape[1]\n",
    "    \n",
    "    Yeqk = (np.tile(np.arange(num_classes).reshape(num_classes, 1), (num_samples,)) == Y).astype(np.float)\n",
    "    \n",
    "    dLdA2 = (O - Yeqk) / num_samples\n",
    "    \n",
    "    dLdH1_padded = W2.dot(dLdA2)\n",
    "    dLdH1 = dLdH1_padded[1:,:] # ship the derivatives backpropagated to the added ones\n",
    "    \n",
    "    #\n",
    "    # Compute the derivatives dLdW2 and dLdW1\n",
    "    #\n",
    "    \n",
    "    dLdA1 = dLdH1 * (1 - H1 ** 2)\n",
    "    \n",
    "    dLdW1 = np.dot(X_padded, dLdA1.T)\n",
    "    \n",
    "    dLdW2 = np.dot(H1_padded, dLdA2.T)\n",
    "    \n",
    "    dLdThetaFlat, unused_shapes = encode_params([dLdW1, dLdW2])\n",
    "    \n",
    "    #reshape gard into the shape of Theta, for fmin_l_bfsgb to work\n",
    "    return L, dLdThetaFlat"
   ]
  },
  {
   "cell_type": "markdown",
   "metadata": {},
   "source": [
    "# Problem 5"
   ]
  },
  {
   "cell_type": "code",
   "execution_count": 2,
   "metadata": {
    "collapsed": false
   },
   "outputs": [
    {
     "ename": "NameError",
     "evalue": "name 'iris' is not defined",
     "output_type": "error",
     "traceback": [
      "\u001b[1;31m---------------------------------------------------------------------------\u001b[0m",
      "\u001b[1;31mNameError\u001b[0m                                 Traceback (most recent call last)",
      "\u001b[1;32m<ipython-input-2-ca52903ad0a8>\u001b[0m in \u001b[0;36m<module>\u001b[1;34m()\u001b[0m\n\u001b[0;32m      7\u001b[0m \u001b[1;31m#\u001b[0m\u001b[1;33m\u001b[0m\u001b[1;33m\u001b[0m\u001b[0m\n\u001b[0;32m      8\u001b[0m \u001b[0mnum_hidden\u001b[0m \u001b[1;33m=\u001b[0m \u001b[1;36m7\u001b[0m\u001b[1;33m\u001b[0m\u001b[0m\n\u001b[1;32m----> 9\u001b[1;33m \u001b[0mnum_features\u001b[0m \u001b[1;33m=\u001b[0m \u001b[0miris\u001b[0m\u001b[1;33m.\u001b[0m\u001b[0mdata\u001b[0m\u001b[1;33m.\u001b[0m\u001b[0mT\u001b[0m\u001b[1;33m.\u001b[0m\u001b[0mshape\u001b[0m\u001b[1;33m[\u001b[0m\u001b[1;36m0\u001b[0m\u001b[1;33m]\u001b[0m\u001b[1;33m\u001b[0m\u001b[0m\n\u001b[0m\u001b[0;32m     10\u001b[0m \u001b[0mnum_classes\u001b[0m \u001b[1;33m=\u001b[0m \u001b[0mnp\u001b[0m\u001b[1;33m.\u001b[0m\u001b[0mmax\u001b[0m\u001b[1;33m(\u001b[0m\u001b[0mIrisY\u001b[0m\u001b[1;33m)\u001b[0m \u001b[1;33m+\u001b[0m \u001b[1;36m1\u001b[0m\u001b[1;33m\u001b[0m\u001b[0m\n\u001b[0;32m     11\u001b[0m \u001b[1;31m#\u001b[0m\u001b[1;33m\u001b[0m\u001b[1;33m\u001b[0m\u001b[0m\n",
      "\u001b[1;31mNameError\u001b[0m: name 'iris' is not defined"
     ]
    }
   ],
   "source": [
    "#\n",
    "# Here we init the network for gradient testing on IRIS\n",
    "#\n",
    "# We will have 7 hidden neurons.\n",
    "# The first weight matrix will be 5 (4 features + bias) x 7 (hidden neurons)\n",
    "# The second weight matrix will be 8 (7 neurons + bias) x 3 (classes)\n",
    "#\n",
    "num_hidden = 7\n",
    "num_features = iris.data.T.shape[0]\n",
    "num_classes = np.max(IrisY) + 1\n",
    "#\n",
    "\n",
    "W1 = np.vstack([np.zeros(num_hidden), np.random.normal(loc = 0.0, scale = 0.2, size = (num_features, num_hidden))])\n",
    "W2 = np.vstack([np.zeros(num_classes), np.random.normal(loc = 0.0, scale = 0.2, size = (num_hidden, num_classes))])\n",
    "\n",
    "# Now flatten into an array\n",
    "Theta0, ThetaShape = encode_params([W1,W2])\n",
    "\n",
    "#Make a function for training on irises\n",
    "iris_net_cost = lambda Theta: TwoLayerNet_implementation(Theta, ThetaShape, iris.data.T, IrisY, False)\n",
    "#Make sure that the gradient computation is OK\n",
    "check_gradient(iris_net_cost, Theta0)\n",
    "check_gradient(iris_net_cost, np.zeros_like(Theta0))\n",
    "check_gradient(iris_net_cost, np.ones_like(Theta0)*0.01)"
   ]
  },
  {
   "cell_type": "code",
   "execution_count": 28,
   "metadata": {
    "collapsed": false
   },
   "outputs": [
    {
     "name": "stdout",
     "output_type": "stream",
     "text": [
      "Training accurracy: 99.333333%\n"
     ]
    }
   ],
   "source": [
    "#\n",
    "# TODO - apply L-BFGS to minimize the loss and get optimal ThetaOpt.\n",
    "#\n",
    "\n",
    "#\n",
    "# Now redo the training for two features\n",
    "#\n",
    "# TODO - again, use l_bfgs to find optimal theta, then compute probabilities and new predictions.\n",
    "#\n",
    "\n",
    "iris_net_cost = lambda Theta: TwoLayerNet_implementation(Theta, ThetaShape, iris.data.T, IrisY, False)\n",
    "\n",
    "ThetaOpt = sopt.fmin_l_bfgs_b(iris_net_cost, Theta0, iprint = 1)[0]\n",
    "\n",
    "predictions = TwoLayerNet_implementation(ThetaOpt, ThetaShape, iris.data.T, return_probabilities=True).argmax(0)\n",
    "print(\"Training accurracy: %f%%\" % ((predictions==IrisY.ravel()).mean()*100))"
   ]
  },
  {
   "cell_type": "markdown",
   "metadata": {},
   "source": [
    "# Problem 6\n",
    "\n",
    "Please note - we will act as if we had two classes. Thus we will use the softmax output of the network"
   ]
  },
  {
   "cell_type": "code",
   "execution_count": 30,
   "metadata": {
    "collapsed": true
   },
   "outputs": [],
   "source": [
    "XOR2X = np.array([[0,0],\n",
    "                  [0,1],\n",
    "                  [1,0],\n",
    "                  [1,1]]).T\n",
    "XOR2Y = np.array([[0,1,1,0]])"
   ]
  },
  {
   "cell_type": "code",
   "execution_count": 146,
   "metadata": {
    "collapsed": false
   },
   "outputs": [
    {
     "name": "stdout",
     "output_type": "stream",
     "text": [
      "Training accurracy: 100.000000%\n"
     ]
    },
    {
     "data": {
      "text/plain": [
       "array([0, 1, 1, 0])"
      ]
     },
     "execution_count": 146,
     "metadata": {},
     "output_type": "execute_result"
    }
   ],
   "source": [
    "#init the neurons\n",
    "num_hidden = 2\n",
    "W1 = (np.random.rand(3,num_hidden) - 0.5)\n",
    "W2 = (np.random.rand(num_hidden+1,2) -0.5)\n",
    "\n",
    "# Now flatten into an array\n",
    "Theta0, ThetaShape = encode_params([W1,W2])\n",
    "\n",
    "iris_xor_cost = lambda Theta: TwoLayerNet_implementation(Theta, ThetaShape, XOR2X, XOR2Y, False)\n",
    "\n",
    "ThetaOpt = sopt.fmin_l_bfgs_b(iris_xor_cost, Theta0, iprint = 1)[0]\n",
    "\n",
    "predictions = TwoLayerNet_implementation(ThetaOpt, ThetaShape, XOR2X, return_probabilities=True).argmax(0)\n",
    "print(\"Training accurracy: %f%%\" % ((predictions==XOR2Y.ravel()).mean()*100))\n",
    "\n",
    "TwoLayerNet_implementation(ThetaOpt, ThetaShape, XOR2X, return_probabilities=True).argmax(0)"
   ]
  },
  {
   "cell_type": "code",
   "execution_count": 56,
   "metadata": {
    "collapsed": true
   },
   "outputs": [],
   "source": [
    "XOR3X = np.array([[0,0,0],\n",
    "                  [0,0,1],\n",
    "                  [0,1,0],\n",
    "                  [0,1,1],\n",
    "                  [1,0,0],\n",
    "                  [1,0,1],\n",
    "                  [1,1,0],\n",
    "                  [1,1,1]]).T\n",
    "XOR3Y = np.array([[0,1,1,0,1,0,0,1]])"
   ]
  },
  {
   "cell_type": "code",
   "execution_count": 147,
   "metadata": {
    "collapsed": false
   },
   "outputs": [
    {
     "name": "stdout",
     "output_type": "stream",
     "text": [
      "Training accurracy: 100.000000%\n"
     ]
    },
    {
     "data": {
      "text/plain": [
       "array([0, 1, 1, 0, 1, 0, 0, 1])"
      ]
     },
     "execution_count": 147,
     "metadata": {},
     "output_type": "execute_result"
    }
   ],
   "source": [
    "#init the neurons\n",
    "num_hidden = 2\n",
    "W1 = (np.random.rand(4,num_hidden) - 0.5)\n",
    "W2 = (np.random.rand(num_hidden+1,2) -0.5)\n",
    "\n",
    "# Now flatten into an array\n",
    "Theta0, ThetaShape = encode_params([W1,W2])\n",
    "\n",
    "iris_xor_cost = lambda Theta: TwoLayerNet_implementation(Theta, ThetaShape, XOR3X, XOR3Y, False)\n",
    "\n",
    "ThetaOpt = sopt.fmin_l_bfgs_b(iris_xor_cost, Theta0, iprint = 1)[0]\n",
    "\n",
    "predictions = TwoLayerNet_implementation(ThetaOpt, ThetaShape, XOR3X, return_probabilities=True).argmax(0)\n",
    "print(\"Training accurracy: %f%%\" % ((predictions==XOR3Y.ravel()).mean()*100))\n",
    "\n",
    "TwoLayerNet_implementation(ThetaOpt, ThetaShape, XOR3X, return_probabilities=True).argmax(0)"
   ]
  },
  {
   "cell_type": "code",
   "execution_count": null,
   "metadata": {
    "collapsed": true
   },
   "outputs": [],
   "source": [
    "#\n",
    "# (Bonus)\n",
    "# TODO - change network implementation code to return hidden activations.\n",
    "# Hint - locals() gives the dictionary of all objects in a functions's scope!\n",
    "#"
   ]
  },
  {
   "cell_type": "markdown",
   "metadata": {},
   "source": [
    "# Problem 7"
   ]
  },
  {
   "cell_type": "code",
   "execution_count": 173,
   "metadata": {
    "collapsed": false
   },
   "outputs": [],
   "source": [
    "IrisNormX = np.array(iris.data.T)\n",
    "\n",
    "mins, maxs = IrisNormX.min(1), IrisNormX.max(1)\n",
    "\n",
    "IrisNormX = (IrisNormX - mins.reshape(4, 1)) / ((maxs - mins) * 0.5).reshape(4, 1) - np.ones(4).reshape(4, 1)"
   ]
  },
  {
   "cell_type": "code",
   "execution_count": 192,
   "metadata": {
    "collapsed": true
   },
   "outputs": [],
   "source": [
    "def TwoLayerNet_0BADF00D(ThetaFlat, ThetaShapes, X, Y=None, return_probabilities=False):\n",
    "    \"\"\"\n",
    "    Compute the outputs of a softmax classifier, or the loss and gradient\n",
    "    \n",
    "    Parameters\n",
    "    ----------\n",
    "    ThetaFlat : \n",
    "        flat array of parameters\n",
    "    ThetaShapes :\n",
    "        list of shapes of weight and bias matrices\n",
    "    X :\n",
    "        array of features, shape n_features x n_smaples\n",
    "    Y :\n",
    "        optional array of desired targets of shape 1 x n_samples\n",
    "    return_probabilities : \n",
    "        if True, the probabilities are returned and Y is not used\n",
    "        if False, the los and gradient is computed on the X,Y pairs\n",
    "    \"\"\"\n",
    "    #X is num_features x num_samples\n",
    "    num_features, num_samples = X.shape\n",
    "\n",
    "    #Extract weight matrices\n",
    "    W1, W2 = decode_params(ThetaFlat, ThetaShapes)\n",
    "    \n",
    "    X_padded = np.vstack([np.ones((1, num_samples)), X])\n",
    "    \n",
    "    # Activation in first layer. Shape is num_hidden x num_samples\n",
    "    \n",
    "    A1 = np.dot(W1.T, X_padded)\n",
    "    \n",
    "    # Apply the transfer function\n",
    "    # Should I compute the tanh indirectly from the formula with the exponents ???\n",
    "    \n",
    "    H1 = np.tanh(A1)\n",
    "    \n",
    "    #Pad with zeros\n",
    "    H1_padded = np.vstack([np.ones((1, num_samples)), H1])\n",
    "    \n",
    "    #Now apply the second linear transform\n",
    "    \n",
    "    A2 = np.dot(W2.T, H1_padded)\n",
    "        \n",
    "    # Now compute the SoftMax function\n",
    "    # O will be a num_classes x num_samples matrix of probabilities assigned by our model  \n",
    "    # Stability optimization - for each subtract the maximum activation\n",
    "    \n",
    "    O = A2 - A2.max(0, keepdims=True)\n",
    "    \n",
    "    # Compute SoftMax as vector O. Take the exp and normalize, so all values of O\n",
    "    # would sum to 1.0.\n",
    "    \n",
    "    Osum = (1 / sum(np.exp(O), 0))\n",
    "    O = np.exp(O) * Osum\n",
    "\n",
    "    if return_probabilities:\n",
    "        return O\n",
    "    \n",
    "    #The loss is the average per-sample nll (neg log likelihood)\n",
    "    #The nll is the sum of the logarithms of probabilities assigned to each class\n",
    "    correct_class_likelihoods = np.log(O[Y.ravel(), np.arange(num_samples)])\n",
    "    L = - 1.0 / num_samples * np.sum(correct_class_likelihoods)\n",
    "\n",
    "    #For the softmax activation and cross-entropy loss, the derivative dNLL/dA has a simple form\n",
    "    #Please fill in its computation\n",
    "    \n",
    "    num_classes = W2.shape[1]\n",
    "    \n",
    "    Yeqk = (np.tile(np.arange(num_classes).reshape(num_classes, 1), (num_samples,)) == Y).astype(np.float)\n",
    "    \n",
    "    dLdA2 = (O + Yeqk) / num_samples\n",
    "    \n",
    "    dLdH1_padded = W2.dot(dLdA2)\n",
    "    dLdH1 = dLdH1_padded[1:,:] # ship the derivatives backpropagated to the added ones\n",
    "    \n",
    "    #\n",
    "    # Compute the derivatives dLdW2 and dLdW1\n",
    "    #\n",
    "    \n",
    "    dLdA1 = dLdH1 * (1 + H1 ** 3)\n",
    "    \n",
    "    dLdW1 = np.dot(X_padded, dLdA1.T)\n",
    "    \n",
    "    dLdW2 = np.dot(H1_padded, dLdA2.T)\n",
    "    \n",
    "    dLdThetaFlat, unused_shapes = encode_params([dLdW1, dLdW2])\n",
    "    \n",
    "    #reshape gard into the shape of Theta, for fmin_l_bfsgb to work\n",
    "    return L, dLdThetaFlat"
   ]
  },
  {
   "cell_type": "code",
   "execution_count": 186,
   "metadata": {
    "collapsed": false
   },
   "outputs": [
    {
     "name": "stdout",
     "output_type": "stream",
     "text": [
      "Training accurracy: 100.000000%\n"
     ]
    }
   ],
   "source": [
    "num_hidden = 10\n",
    "\n",
    "W1 = (np.random.rand(5, num_hidden) - 0.5)*0.1\n",
    "W2 = (np.random.rand(num_hidden + 1, 3) - 0.5)*0.1\n",
    "\n",
    "# Now flatten into an array\n",
    "Theta0, ThetaShape = encode_params([W1, W2])\n",
    "\n",
    "iris_net_cost = lambda Theta: TwoLayerNet_implementation(Theta, ThetaShape, IrisNormX, IrisY, False)\n",
    "\n",
    "ThetaOpt = sopt.fmin_l_bfgs_b(iris_net_cost, Theta0, iprint = 1)[0]\n",
    "\n",
    "predictions = TwoLayerNet_implementation(ThetaOpt, ThetaShape, IrisNormX, return_probabilities=True).argmax(0)\n",
    "print(\"Training accurracy: %f%%\" % ((predictions==IrisY.ravel()).mean()*100))"
   ]
  },
  {
   "cell_type": "code",
   "execution_count": 193,
   "metadata": {
    "collapsed": false
   },
   "outputs": [
    {
     "name": "stdout",
     "output_type": "stream",
     "text": [
      "Training accurracy: 33.333333%\n"
     ]
    }
   ],
   "source": [
    "num_hidden = 10\n",
    "\n",
    "W1 = (np.random.rand(5, num_hidden) - 0.5)*0.1\n",
    "W2 = (np.random.rand(num_hidden + 1, 3) - 0.5)*0.1\n",
    "\n",
    "# Now flatten into an array\n",
    "Theta0, ThetaShape = encode_params([W1, W2])\n",
    "\n",
    "iris_net_cost = lambda Theta: TwoLayerNet_0BADF00D(Theta, ThetaShape, IrisNormX, IrisY, False)\n",
    "\n",
    "ThetaOpt = sopt.fmin_l_bfgs_b(iris_net_cost, Theta0, iprint = 1)[0]\n",
    "\n",
    "predictions = TwoLayerNet_0BADF00D(ThetaOpt, ThetaShape, IrisNormX, return_probabilities=True).argmax(0)\n",
    "print(\"Training accurracy: %f%%\" % ((predictions==IrisY.ravel()).mean()*100))"
   ]
  },
  {
   "cell_type": "markdown",
   "metadata": {},
   "source": [
    "Neural networks are parametric methods, because the number of parameters do not changes with respect to the input size (number of samples).\n",
    "\n",
    "If we set all parameters to 0, the neurons are indistinguishable, all of them will follow the same gradient."
   ]
  }
 ],
 "metadata": {
  "kernelspec": {
   "display_name": "Python 3",
   "language": "python",
   "name": "python3"
  },
  "language_info": {
   "codemirror_mode": {
    "name": "ipython",
    "version": 3
   },
   "file_extension": ".py",
   "mimetype": "text/x-python",
   "name": "python",
   "nbconvert_exporter": "python",
   "pygments_lexer": "ipython3",
   "version": "3.4.3"
  }
 },
 "nbformat": 4,
 "nbformat_minor": 0
}
